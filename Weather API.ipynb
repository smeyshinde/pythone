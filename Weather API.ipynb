{
 "cells": [
  {
   "cell_type": "code",
   "execution_count": 58,
   "id": "006b82c3-214e-4a4b-8e36-12740982f9e1",
   "metadata": {},
   "outputs": [
    {
     "name": "stdin",
     "output_type": "stream",
     "text": [
      "Enter the city name ichalkaranji\n"
     ]
    },
    {
     "name": "stdout",
     "output_type": "stream",
     "text": [
      "{'coord': {'lon': 74.4667, 'lat': 16.7}, 'weather': [{'id': 803, 'main': 'Clouds', 'description': 'broken clouds', 'icon': '04n'}], 'base': 'stations', 'main': {'temp': 297.45, 'feels_like': 298.18, 'temp_min': 297.45, 'temp_max': 297.45, 'pressure': 1009, 'humidity': 86, 'sea_level': 1009, 'grnd_level': 948}, 'visibility': 10000, 'wind': {'speed': 3.05, 'deg': 276, 'gust': 5.55}, 'clouds': {'all': 79}, 'dt': 1723569515, 'sys': {'country': 'IN', 'sunrise': 1723509933, 'sunset': 1723555716}, 'timezone': 19800, 'id': 1269834, 'name': 'Ichalkaranji', 'cod': 200}\n"
     ]
    }
   ],
   "source": [
    "import json\n",
    "import requests\n",
    "\n",
    "city=input(\"Enter the city name\")\n",
    "api_key='a3b88be94f136ad37abfcfcf138cd153'\n",
    "api_url=f'https://api.openweathermap.org/data/2.5/weather?q={city}&appid={api_key}'\n",
    "get_server_information=requests.get(api_url)\n",
    "print(get_server_information.json())\n"
   ]
  },
  {
   "cell_type": "code",
   "execution_count": null,
   "id": "e33b9087-236a-4a06-876c-752f8dd50817",
   "metadata": {},
   "outputs": [],
   "source": []
  }
 ],
 "metadata": {
  "kernelspec": {
   "display_name": "Python 3 (ipykernel)",
   "language": "python",
   "name": "python3"
  },
  "language_info": {
   "codemirror_mode": {
    "name": "ipython",
    "version": 3
   },
   "file_extension": ".py",
   "mimetype": "text/x-python",
   "name": "python",
   "nbconvert_exporter": "python",
   "pygments_lexer": "ipython3",
   "version": "3.12.4"
  }
 },
 "nbformat": 4,
 "nbformat_minor": 5
}
