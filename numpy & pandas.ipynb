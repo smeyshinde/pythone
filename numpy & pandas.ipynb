{
 "cells": [
  {
   "cell_type": "markdown",
   "id": "dab739d2-3f17-4584-adfe-9d1f10214615",
   "metadata": {},
   "source": [
    "Numpy : \n",
    "    workig with array\n",
    "    contain simple math functions\n",
    "    "
   ]
  },
  {
   "cell_type": "code",
   "execution_count": 36,
   "id": "98d9df83-8a30-4e97-be3f-02820a31a1fe",
   "metadata": {
    "scrolled": true
   },
   "outputs": [
    {
     "name": "stdout",
     "output_type": "stream",
     "text": [
      "[1 2 3 4]\n",
      "4\n",
      "(4,)\n",
      "<class 'numpy.ndarray'>\n"
     ]
    }
   ],
   "source": [
    "import numpy as np\n",
    "\n",
    "arr= np.array([1,2,3,4])\n",
    "\n",
    "print(arr)\n",
    "print(arr.size)\n",
    "print(arr.shape)\n",
    "print(type(arr))"
   ]
  },
  {
   "cell_type": "code",
   "execution_count": 42,
   "id": "339030a4-384c-427c-bb64-248c28a0186f",
   "metadata": {},
   "outputs": [
    {
     "name": "stdout",
     "output_type": "stream",
     "text": [
      "[1 2 3 4 5]\n",
      "2\n",
      "[2 3 4]\n",
      "6\n"
     ]
    }
   ],
   "source": [
    "import numpy as np\n",
    "\n",
    "arr=np.array([1,2,3,4,5])\n",
    "print(arr)\n",
    "\n",
    "print(arr[1])#element accessing\n",
    "print(arr[1:4])#slicing\n",
    "arr = np.array([[1,2,3],[4,5,6],[7,8,9]])\n",
    "print(arr[1, 2]) #advance indexing\n"
   ]
  },
  {
   "cell_type": "code",
   "execution_count": 46,
   "id": "bc6e6db0-5711-4e2e-a296-e2bfd869914d",
   "metadata": {},
   "outputs": [
    {
     "name": "stdout",
     "output_type": "stream",
     "text": [
      "[1 2 3 4 5]\n",
      "15\n",
      "3.0\n",
      "1.4142135623730951\n",
      "[0.68195824 0.22945081]\n",
      "2\n"
     ]
    }
   ],
   "source": [
    "import numpy as np\n",
    "\n",
    "arr=np.array([1,2,3,4,5])\n",
    "print(arr)\n",
    "#simple math function\n",
    "print(np.sum(arr))\n",
    "print(np.mean(arr))\n",
    "print(np.std(arr))\n",
    "#randam module\n",
    "print(np.random.rand(2))\n",
    "print(np.random.randint(3))"
   ]
  },
  {
   "cell_type": "markdown",
   "id": "b12780d6-544d-4aea-a37d-224723df5dfa",
   "metadata": {},
   "source": [
    "Pandas : \n",
    "    working with datasets\n",
    "    easy for multidimentional labled array\n",
    "    pandas have series\n",
    "    dataframe is writen as dict"
   ]
  },
  {
   "cell_type": "code",
   "execution_count": 53,
   "id": "ea3ad739-b1e8-40ac-b81b-1258cec971f2",
   "metadata": {},
   "outputs": [
    {
     "name": "stdout",
     "output_type": "stream",
     "text": [
      "0    1\n",
      "1    2\n",
      "2    3\n",
      "3    4\n",
      "4    5\n",
      "dtype: int64\n",
      "0    1\n",
      "1    2\n",
      "2    3\n",
      "Name: A, dtype: int64\n",
      "0    5\n",
      "1    7\n",
      "2    9\n",
      "Name: C, dtype: int64\n"
     ]
    }
   ],
   "source": [
    "import pandas as pd\n",
    "\n",
    "y= pd.Series([1,2,3,4,5])#series\n",
    "print(y)\n",
    "\n",
    "#create dataframe\n",
    "data ={\n",
    "    'A':[1,2,3],\n",
    "    'B':[4,5,6]\n",
    "}\n",
    "df=pd.DataFrame(data)\n",
    "print(df['A'])\n",
    "\n",
    "df['C'] = df['A'] + df['B']\n",
    "print(df['C'])"
   ]
  },
  {
   "cell_type": "code",
   "execution_count": null,
   "id": "f94d5319-2b2c-4a87-b96a-1f0e1c2b2a00",
   "metadata": {},
   "outputs": [],
   "source": []
  }
 ],
 "metadata": {
  "kernelspec": {
   "display_name": "Python 3 (ipykernel)",
   "language": "python",
   "name": "python3"
  },
  "language_info": {
   "codemirror_mode": {
    "name": "ipython",
    "version": 3
   },
   "file_extension": ".py",
   "mimetype": "text/x-python",
   "name": "python",
   "nbconvert_exporter": "python",
   "pygments_lexer": "ipython3",
   "version": "3.12.4"
  }
 },
 "nbformat": 4,
 "nbformat_minor": 5
}
